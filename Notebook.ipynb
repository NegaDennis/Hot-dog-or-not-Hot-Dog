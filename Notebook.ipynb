{
  "cells": [
    {
      "cell_type": "markdown",
      "source": [
        "# House-keeping"
      ],
      "metadata": {
        "id": "3geV4htLpQa-"
      }
    },
    {
      "cell_type": "code",
      "source": [
        "#Loading basic libraries\n",
        "import numpy as np\n",
        "import matplotlib.pyplot as plt\n",
        "import random\n",
        "import sys, os #working with gg drive and directories\n",
        "import math\n",
        "import pandas as pd\n",
        "\n",
        "#Loading ML libraries\n",
        "from tensorflow import keras\n",
        "import tensorflow as tf"
      ],
      "metadata": {
        "id": "JY-r7OsMn8Dd"
      },
      "execution_count": 1,
      "outputs": []
    },
    {
      "cell_type": "code",
      "source": [
        "# Mounting drive\n",
        "from google.colab import drive\n",
        "if os.path.ismount('/content/drive') == False:\n",
        "    drive.mount('/content/drive')"
      ],
      "metadata": {
        "id": "Y1AyhjcYnz6X"
      },
      "execution_count": 2,
      "outputs": []
    },
    {
      "cell_type": "code",
      "source": [
        "# Setting working directories\n",
        "project_root = '/content/drive/MyDrive/Github/Medium/1A - Hot dog or not hot dog'\n",
        "scr = os.path.join(project_root, 'scr')\n",
        "\n",
        "os.chdir(project_root)  # main.py will be here (using this notebook for testing scripts for now)\n",
        "sys.path.append(scr)    # script folder\n",
        "\n",
        "print(os.getcwd())"
      ],
      "metadata": {
        "colab": {
          "base_uri": "https://localhost:8080/"
        },
        "id": "_WoWBEysohb9",
        "outputId": "65f6db5b-f206-474a-b87c-6509ad9d4b7a"
      },
      "execution_count": 3,
      "outputs": [
        {
          "output_type": "stream",
          "name": "stdout",
          "text": [
            "/content/drive/MyDrive/Github/Medium/1A - Hot dog or not hot dog\n"
          ]
        }
      ]
    },
    {
      "cell_type": "code",
      "source": [
        "# Dealing with config\n",
        "import json\n",
        "\n",
        "# force reload when running this block again (avoid running the whole notebook again when changing config)\n",
        "import importlib\n",
        "\n",
        "def load_config(path=\"config.json\"):\n",
        "    with open(path) as f:\n",
        "        return json.load(f)\n",
        "\n",
        "cfg = load_config()\n",
        "\n",
        "# importing config vars (yes, i know. but it works. refactor later.)\n",
        "seed = cfg[\"seed\"]\n",
        "model = cfg[\"model\"]\n",
        "validation_split = cfg[\"validation_split\"]\n",
        "train_hot_dog_path = cfg[\"data_paths\"][\"train_hot_dog\"]\n",
        "test_hot_dog_path = cfg[\"data_paths\"][\"test_hot_dog\"]\n",
        "train_not_hot_dog_path = cfg[\"data_paths\"][\"train_not_hot_dog\"]\n",
        "test_not_hot_dog_path = cfg[\"data_paths\"][\"test_not_hot_dog\"]\n",
        "img_rows = cfg[\"data_parameters\"][\"img_rows\"]\n",
        "img_cols = cfg[\"data_parameters\"][\"img_cols\"]\n",
        "num_classes = cfg[\"data_parameters\"][\"num_classes\"]\n",
        "channels = cfg[\"data_parameters\"][\"channels\"]\n",
        "class_names = cfg[\"data_parameters\"][\"class_names\"]\n",
        "activation = cfg[\"data_parameters\"][\"activation\"]\n",
        "export_dir = cfg[\"export\"][\"export_dir\"]\n",
        "model_name = cfg[\"export\"][\"model_name\"]\n",
        "optimizer = cfg[\"optimize\"][\"optimizer\"]\n",
        "learning_rate = cfg[\"optimize\"][\"learning_rate\"]\n",
        "loss = cfg[\"optimize\"][\"loss\"]\n",
        "metrics = cfg[\"optimize\"][\"metrics\"]\n",
        "epochs = cfg[\"optimize\"][\"epochs\"]\n",
        "batch_size = cfg[\"optimize\"][\"batch_size\"]\n",
        "weight_decay = cfg[\"optimize\"][\"weight_decay\"]\n",
        "beta_1 = cfg[\"optimize\"][\"beta_1\"]\n",
        "beta_2 = cfg[\"optimize\"][\"beta_2\"]\n",
        "epsilon = cfg[\"optimize\"][\"epsilon\"]\n",
        "momentum = cfg[\"optimize\"][\"momentum\"]"
      ],
      "metadata": {
        "id": "oLGs9atc5d7V"
      },
      "execution_count": 38,
      "outputs": []
    },
    {
      "cell_type": "code",
      "source": [
        "# to work with .ipynb\n",
        "!pip install importnb"
      ],
      "metadata": {
        "colab": {
          "base_uri": "https://localhost:8080/"
        },
        "id": "4pNUEQZhprfP",
        "outputId": "5ea4f837-2b1b-41c5-d4a1-9383b6fafafb"
      },
      "execution_count": 5,
      "outputs": [
        {
          "output_type": "stream",
          "name": "stdout",
          "text": [
            "Requirement already satisfied: importnb in /usr/local/lib/python3.12/dist-packages (2023.11.1)\n"
          ]
        }
      ]
    },
    {
      "cell_type": "code",
      "source": [
        "# scr (use .ipynb files for now)\n",
        "from importnb import Notebook\n",
        "with Notebook():\n",
        "    import preprocessing\n",
        "    import models\n",
        "    from optimizer import get_optimizer\n",
        "    import export"
      ],
      "metadata": {
        "id": "FtX-xgfnpFB1"
      },
      "execution_count": 6,
      "outputs": []
    },
    {
      "cell_type": "code",
      "source": [
        "# ensure replicability\n",
        "os.environ['PYTHONHASHSEED'] = str(seed)\n",
        "random.seed(seed)\n",
        "np.random.seed(seed)\n",
        "tf.random.set_seed(seed)"
      ],
      "metadata": {
        "id": "a0ZeVozwnunF"
      },
      "execution_count": 7,
      "outputs": []
    },
    {
      "cell_type": "code",
      "source": [
        "# Show all physical devices TF can see\n",
        "print(\"Physical devices detected:\", tf.config.list_physical_devices())\n",
        "\n",
        "# Quick check if GPU is available\n",
        "print(\"Is built with GPU support:\", tf.test.is_built_with_cuda())\n",
        "print(\"Is GPU available to TF:\", tf.config.list_physical_devices('GPU'))\n",
        "\n",
        "# Which device ops are placed on by default\n",
        "print(\"Default device:\", tf.test.gpu_device_name())"
      ],
      "metadata": {
        "colab": {
          "base_uri": "https://localhost:8080/"
        },
        "id": "fLnN1OKESOPW",
        "outputId": "e116fa44-7ee6-4f1e-a7ad-aa37d9f2fb4f"
      },
      "execution_count": 8,
      "outputs": [
        {
          "output_type": "stream",
          "name": "stdout",
          "text": [
            "Physical devices detected: [PhysicalDevice(name='/physical_device:CPU:0', device_type='CPU'), PhysicalDevice(name='/physical_device:GPU:0', device_type='GPU')]\n",
            "Is built with GPU support: True\n",
            "Is GPU available to TF: [PhysicalDevice(name='/physical_device:GPU:0', device_type='GPU')]\n",
            "Default device: /device:GPU:0\n"
          ]
        }
      ]
    },
    {
      "cell_type": "markdown",
      "metadata": {
        "id": "nqPl5gh_YzhX"
      },
      "source": [
        "<a id = \"cell_Preprocessing\"></a>\n",
        "# 1. Data loading and preparation"
      ]
    },
    {
      "cell_type": "code",
      "source": [
        "# building train and test datasets\n",
        "train_folder = [\n",
        "    (train_hot_dog_path, \"hot_dog\"),\n",
        "    (train_not_hot_dog_path, \"not_hot_dog\")\n",
        "]\n",
        "\n",
        "test_folder = [\n",
        "    (test_hot_dog_path, \"hot_dog\"),\n",
        "    (test_not_hot_dog_path, \"not_hot_dog\")\n",
        "]\n",
        "train_data = preprocessing.preprocess_image(paths_and_labels=train_folder,image_size= (img_rows,img_cols))\n",
        "test_data = preprocessing.preprocess_image(paths_and_labels=test_folder,image_size= (img_rows,img_cols))"
      ],
      "metadata": {
        "id": "RY5xsyGdofYO"
      },
      "execution_count": 25,
      "outputs": []
    },
    {
      "cell_type": "code",
      "source": [
        "# Adding 1000 more hot dog images in training\n",
        "train_data = preprocessing.preprocess_image2(train_data,\n",
        "                                             paths_and_labels=[(\"/content/drive/MyDrive/Github/Medium/1A - Hot dog or not hot dog/input data/food101_set/train\",\"hot_dog\")],\n",
        "                                             image_size= (img_rows,img_cols))"
      ],
      "metadata": {
        "id": "OD9AVcb67-1k"
      },
      "execution_count": 30,
      "outputs": []
    },
    {
      "cell_type": "code",
      "source": [
        "# Converting image to arrays\n",
        "x_train, y_train, x_test, y_test = preprocessing.image_to_array(train_data,test_data)"
      ],
      "metadata": {
        "id": "FLXKqxz3p_Ed"
      },
      "execution_count": 31,
      "outputs": []
    },
    {
      "cell_type": "code",
      "source": [
        "# Normalize data\n",
        "x_train,  x_test = preprocessing.image_data_normalizer(x_train,x_test,scale_type=\"0-1\")"
      ],
      "metadata": {
        "id": "NZwtknnDu3hi"
      },
      "execution_count": 32,
      "outputs": []
    },
    {
      "cell_type": "code",
      "source": [
        "# encoding labels\n",
        "# Create a NumPy array with category strings\n",
        "categories = np.array(['hot_dog','not_hot_dog'])\n",
        "\n",
        "# Create a mapping from category strings to integers\n",
        "category_map = {'hot_dog': 1, 'not_hot_dog': 0}\n",
        "\n",
        "# Encode the categories\n",
        "y_train = np.array([category_map[category] for category in y_train])\n",
        "y_test = np.array([category_map[category] for category in y_test])"
      ],
      "metadata": {
        "id": "wvNfCZNWwPeh"
      },
      "execution_count": 33,
      "outputs": []
    },
    {
      "cell_type": "code",
      "source": [
        "# Reshape images for processing\n",
        "x_train = x_train.reshape(x_train.shape[0], img_rows, img_cols, channels)\n",
        "x_test = x_test.reshape(x_test.shape[0], img_rows, img_cols, channels)\n",
        "\n",
        "print('Train shape: x=', x_train.shape, ', y=', y_train.shape)\n",
        "print('Test shape: x=', x_test.shape, ', y=', y_test.shape)"
      ],
      "metadata": {
        "colab": {
          "base_uri": "https://localhost:8080/"
        },
        "id": "h4gdjGxPwwVo",
        "outputId": "ece2c654-08d9-4573-a872-d73feedf55be"
      },
      "execution_count": 34,
      "outputs": [
        {
          "output_type": "stream",
          "name": "stdout",
          "text": [
            "Train shape: x= (5191, 128, 128, 3) , y= (5191,)\n",
            "Test shape: x= (376, 128, 128, 3) , y= (376,)\n"
          ]
        }
      ]
    },
    {
      "cell_type": "markdown",
      "source": [
        "# Modellings"
      ],
      "metadata": {
        "id": "Ds5EkS38xA9C"
      }
    },
    {
      "cell_type": "code",
      "source": [
        "# Keras callbacks (stop if val_loss doesn't improve after 20 epochs)\n",
        "from tensorflow.keras.callbacks import TensorBoard, Callback, EarlyStopping\n",
        "from tensorflow.keras.callbacks import ReduceLROnPlateau\n",
        "\n",
        "keras_callbacks = [EarlyStopping(monitor='val_loss', patience=20, verbose=0)]\n",
        "\n",
        "lr_callback = ReduceLROnPlateau(monitor='val_loss', factor=0.5,\n",
        "                                patience=5, min_lr=6.2500e-05)"
      ],
      "metadata": {
        "id": "ZTD5aaxiERrB"
      },
      "execution_count": 35,
      "outputs": []
    },
    {
      "cell_type": "code",
      "source": [
        "# Choose model\n",
        "model_func = getattr(models, model)\n",
        "model = model_func()"
      ],
      "metadata": {
        "id": "9zxZUUrzaYlD",
        "colab": {
          "base_uri": "https://localhost:8080/",
          "height": 697
        },
        "outputId": "c702dbd2-2f1a-44e6-f510-c4d88a3fc164"
      },
      "execution_count": 40,
      "outputs": [
        {
          "output_type": "stream",
          "name": "stderr",
          "text": [
            "/usr/local/lib/python3.12/dist-packages/keras/src/layers/activations/leaky_relu.py:41: UserWarning: Argument `alpha` is deprecated. Use `negative_slope` instead.\n",
            "  warnings.warn(\n"
          ]
        },
        {
          "output_type": "display_data",
          "data": {
            "text/plain": [
              "\u001b[1mModel: \"sequential_3\"\u001b[0m\n"
            ],
            "text/html": [
              "<pre style=\"white-space:pre;overflow-x:auto;line-height:normal;font-family:Menlo,'DejaVu Sans Mono',consolas,'Courier New',monospace\"><span style=\"font-weight: bold\">Model: \"sequential_3\"</span>\n",
              "</pre>\n"
            ]
          },
          "metadata": {}
        },
        {
          "output_type": "display_data",
          "data": {
            "text/plain": [
              "┏━━━━━━━━━━━━━━━━━━━━━━━━━━━━━━━━━┳━━━━━━━━━━━━━━━━━━━━━━━━┳━━━━━━━━━━━━━━━┓\n",
              "┃\u001b[1m \u001b[0m\u001b[1mLayer (type)                   \u001b[0m\u001b[1m \u001b[0m┃\u001b[1m \u001b[0m\u001b[1mOutput Shape          \u001b[0m\u001b[1m \u001b[0m┃\u001b[1m \u001b[0m\u001b[1m      Param #\u001b[0m\u001b[1m \u001b[0m┃\n",
              "┡━━━━━━━━━━━━━━━━━━━━━━━━━━━━━━━━━╇━━━━━━━━━━━━━━━━━━━━━━━━╇━━━━━━━━━━━━━━━┩\n",
              "│ sequential_2 (\u001b[38;5;33mSequential\u001b[0m)       │ (\u001b[38;5;45mNone\u001b[0m, \u001b[38;5;34m128\u001b[0m, \u001b[38;5;34m128\u001b[0m, \u001b[38;5;34m3\u001b[0m)    │             \u001b[38;5;34m0\u001b[0m │\n",
              "├─────────────────────────────────┼────────────────────────┼───────────────┤\n",
              "│ conv2d_3 (\u001b[38;5;33mConv2D\u001b[0m)               │ (\u001b[38;5;45mNone\u001b[0m, \u001b[38;5;34m126\u001b[0m, \u001b[38;5;34m126\u001b[0m, \u001b[38;5;34m128\u001b[0m)  │         \u001b[38;5;34m3,584\u001b[0m │\n",
              "├─────────────────────────────────┼────────────────────────┼───────────────┤\n",
              "│ leaky_re_lu_4 (\u001b[38;5;33mLeakyReLU\u001b[0m)       │ (\u001b[38;5;45mNone\u001b[0m, \u001b[38;5;34m126\u001b[0m, \u001b[38;5;34m126\u001b[0m, \u001b[38;5;34m128\u001b[0m)  │             \u001b[38;5;34m0\u001b[0m │\n",
              "├─────────────────────────────────┼────────────────────────┼───────────────┤\n",
              "│ max_pooling2d_2 (\u001b[38;5;33mMaxPooling2D\u001b[0m)  │ (\u001b[38;5;45mNone\u001b[0m, \u001b[38;5;34m63\u001b[0m, \u001b[38;5;34m63\u001b[0m, \u001b[38;5;34m128\u001b[0m)    │             \u001b[38;5;34m0\u001b[0m │\n",
              "├─────────────────────────────────┼────────────────────────┼───────────────┤\n",
              "│ dropout_3 (\u001b[38;5;33mDropout\u001b[0m)             │ (\u001b[38;5;45mNone\u001b[0m, \u001b[38;5;34m63\u001b[0m, \u001b[38;5;34m63\u001b[0m, \u001b[38;5;34m128\u001b[0m)    │             \u001b[38;5;34m0\u001b[0m │\n",
              "├─────────────────────────────────┼────────────────────────┼───────────────┤\n",
              "│ conv2d_4 (\u001b[38;5;33mConv2D\u001b[0m)               │ (\u001b[38;5;45mNone\u001b[0m, \u001b[38;5;34m61\u001b[0m, \u001b[38;5;34m61\u001b[0m, \u001b[38;5;34m64\u001b[0m)     │        \u001b[38;5;34m73,792\u001b[0m │\n",
              "├─────────────────────────────────┼────────────────────────┼───────────────┤\n",
              "│ leaky_re_lu_5 (\u001b[38;5;33mLeakyReLU\u001b[0m)       │ (\u001b[38;5;45mNone\u001b[0m, \u001b[38;5;34m61\u001b[0m, \u001b[38;5;34m61\u001b[0m, \u001b[38;5;34m64\u001b[0m)     │             \u001b[38;5;34m0\u001b[0m │\n",
              "├─────────────────────────────────┼────────────────────────┼───────────────┤\n",
              "│ max_pooling2d_3 (\u001b[38;5;33mMaxPooling2D\u001b[0m)  │ (\u001b[38;5;45mNone\u001b[0m, \u001b[38;5;34m30\u001b[0m, \u001b[38;5;34m30\u001b[0m, \u001b[38;5;34m64\u001b[0m)     │             \u001b[38;5;34m0\u001b[0m │\n",
              "├─────────────────────────────────┼────────────────────────┼───────────────┤\n",
              "│ dropout_4 (\u001b[38;5;33mDropout\u001b[0m)             │ (\u001b[38;5;45mNone\u001b[0m, \u001b[38;5;34m30\u001b[0m, \u001b[38;5;34m30\u001b[0m, \u001b[38;5;34m64\u001b[0m)     │             \u001b[38;5;34m0\u001b[0m │\n",
              "├─────────────────────────────────┼────────────────────────┼───────────────┤\n",
              "│ conv2d_5 (\u001b[38;5;33mConv2D\u001b[0m)               │ (\u001b[38;5;45mNone\u001b[0m, \u001b[38;5;34m28\u001b[0m, \u001b[38;5;34m28\u001b[0m, \u001b[38;5;34m32\u001b[0m)     │        \u001b[38;5;34m18,464\u001b[0m │\n",
              "├─────────────────────────────────┼────────────────────────┼───────────────┤\n",
              "│ leaky_re_lu_6 (\u001b[38;5;33mLeakyReLU\u001b[0m)       │ (\u001b[38;5;45mNone\u001b[0m, \u001b[38;5;34m28\u001b[0m, \u001b[38;5;34m28\u001b[0m, \u001b[38;5;34m32\u001b[0m)     │             \u001b[38;5;34m0\u001b[0m │\n",
              "├─────────────────────────────────┼────────────────────────┼───────────────┤\n",
              "│ flatten_1 (\u001b[38;5;33mFlatten\u001b[0m)             │ (\u001b[38;5;45mNone\u001b[0m, \u001b[38;5;34m25088\u001b[0m)          │             \u001b[38;5;34m0\u001b[0m │\n",
              "├─────────────────────────────────┼────────────────────────┼───────────────┤\n",
              "│ dense_2 (\u001b[38;5;33mDense\u001b[0m)                 │ (\u001b[38;5;45mNone\u001b[0m, \u001b[38;5;34m128\u001b[0m)            │     \u001b[38;5;34m3,211,392\u001b[0m │\n",
              "├─────────────────────────────────┼────────────────────────┼───────────────┤\n",
              "│ leaky_re_lu_7 (\u001b[38;5;33mLeakyReLU\u001b[0m)       │ (\u001b[38;5;45mNone\u001b[0m, \u001b[38;5;34m128\u001b[0m)            │             \u001b[38;5;34m0\u001b[0m │\n",
              "├─────────────────────────────────┼────────────────────────┼───────────────┤\n",
              "│ dropout_5 (\u001b[38;5;33mDropout\u001b[0m)             │ (\u001b[38;5;45mNone\u001b[0m, \u001b[38;5;34m128\u001b[0m)            │             \u001b[38;5;34m0\u001b[0m │\n",
              "├─────────────────────────────────┼────────────────────────┼───────────────┤\n",
              "│ dense_3 (\u001b[38;5;33mDense\u001b[0m)                 │ (\u001b[38;5;45mNone\u001b[0m, \u001b[38;5;34m1\u001b[0m)              │           \u001b[38;5;34m129\u001b[0m │\n",
              "└─────────────────────────────────┴────────────────────────┴───────────────┘\n"
            ],
            "text/html": [
              "<pre style=\"white-space:pre;overflow-x:auto;line-height:normal;font-family:Menlo,'DejaVu Sans Mono',consolas,'Courier New',monospace\">┏━━━━━━━━━━━━━━━━━━━━━━━━━━━━━━━━━┳━━━━━━━━━━━━━━━━━━━━━━━━┳━━━━━━━━━━━━━━━┓\n",
              "┃<span style=\"font-weight: bold\"> Layer (type)                    </span>┃<span style=\"font-weight: bold\"> Output Shape           </span>┃<span style=\"font-weight: bold\">       Param # </span>┃\n",
              "┡━━━━━━━━━━━━━━━━━━━━━━━━━━━━━━━━━╇━━━━━━━━━━━━━━━━━━━━━━━━╇━━━━━━━━━━━━━━━┩\n",
              "│ sequential_2 (<span style=\"color: #0087ff; text-decoration-color: #0087ff\">Sequential</span>)       │ (<span style=\"color: #00d7ff; text-decoration-color: #00d7ff\">None</span>, <span style=\"color: #00af00; text-decoration-color: #00af00\">128</span>, <span style=\"color: #00af00; text-decoration-color: #00af00\">128</span>, <span style=\"color: #00af00; text-decoration-color: #00af00\">3</span>)    │             <span style=\"color: #00af00; text-decoration-color: #00af00\">0</span> │\n",
              "├─────────────────────────────────┼────────────────────────┼───────────────┤\n",
              "│ conv2d_3 (<span style=\"color: #0087ff; text-decoration-color: #0087ff\">Conv2D</span>)               │ (<span style=\"color: #00d7ff; text-decoration-color: #00d7ff\">None</span>, <span style=\"color: #00af00; text-decoration-color: #00af00\">126</span>, <span style=\"color: #00af00; text-decoration-color: #00af00\">126</span>, <span style=\"color: #00af00; text-decoration-color: #00af00\">128</span>)  │         <span style=\"color: #00af00; text-decoration-color: #00af00\">3,584</span> │\n",
              "├─────────────────────────────────┼────────────────────────┼───────────────┤\n",
              "│ leaky_re_lu_4 (<span style=\"color: #0087ff; text-decoration-color: #0087ff\">LeakyReLU</span>)       │ (<span style=\"color: #00d7ff; text-decoration-color: #00d7ff\">None</span>, <span style=\"color: #00af00; text-decoration-color: #00af00\">126</span>, <span style=\"color: #00af00; text-decoration-color: #00af00\">126</span>, <span style=\"color: #00af00; text-decoration-color: #00af00\">128</span>)  │             <span style=\"color: #00af00; text-decoration-color: #00af00\">0</span> │\n",
              "├─────────────────────────────────┼────────────────────────┼───────────────┤\n",
              "│ max_pooling2d_2 (<span style=\"color: #0087ff; text-decoration-color: #0087ff\">MaxPooling2D</span>)  │ (<span style=\"color: #00d7ff; text-decoration-color: #00d7ff\">None</span>, <span style=\"color: #00af00; text-decoration-color: #00af00\">63</span>, <span style=\"color: #00af00; text-decoration-color: #00af00\">63</span>, <span style=\"color: #00af00; text-decoration-color: #00af00\">128</span>)    │             <span style=\"color: #00af00; text-decoration-color: #00af00\">0</span> │\n",
              "├─────────────────────────────────┼────────────────────────┼───────────────┤\n",
              "│ dropout_3 (<span style=\"color: #0087ff; text-decoration-color: #0087ff\">Dropout</span>)             │ (<span style=\"color: #00d7ff; text-decoration-color: #00d7ff\">None</span>, <span style=\"color: #00af00; text-decoration-color: #00af00\">63</span>, <span style=\"color: #00af00; text-decoration-color: #00af00\">63</span>, <span style=\"color: #00af00; text-decoration-color: #00af00\">128</span>)    │             <span style=\"color: #00af00; text-decoration-color: #00af00\">0</span> │\n",
              "├─────────────────────────────────┼────────────────────────┼───────────────┤\n",
              "│ conv2d_4 (<span style=\"color: #0087ff; text-decoration-color: #0087ff\">Conv2D</span>)               │ (<span style=\"color: #00d7ff; text-decoration-color: #00d7ff\">None</span>, <span style=\"color: #00af00; text-decoration-color: #00af00\">61</span>, <span style=\"color: #00af00; text-decoration-color: #00af00\">61</span>, <span style=\"color: #00af00; text-decoration-color: #00af00\">64</span>)     │        <span style=\"color: #00af00; text-decoration-color: #00af00\">73,792</span> │\n",
              "├─────────────────────────────────┼────────────────────────┼───────────────┤\n",
              "│ leaky_re_lu_5 (<span style=\"color: #0087ff; text-decoration-color: #0087ff\">LeakyReLU</span>)       │ (<span style=\"color: #00d7ff; text-decoration-color: #00d7ff\">None</span>, <span style=\"color: #00af00; text-decoration-color: #00af00\">61</span>, <span style=\"color: #00af00; text-decoration-color: #00af00\">61</span>, <span style=\"color: #00af00; text-decoration-color: #00af00\">64</span>)     │             <span style=\"color: #00af00; text-decoration-color: #00af00\">0</span> │\n",
              "├─────────────────────────────────┼────────────────────────┼───────────────┤\n",
              "│ max_pooling2d_3 (<span style=\"color: #0087ff; text-decoration-color: #0087ff\">MaxPooling2D</span>)  │ (<span style=\"color: #00d7ff; text-decoration-color: #00d7ff\">None</span>, <span style=\"color: #00af00; text-decoration-color: #00af00\">30</span>, <span style=\"color: #00af00; text-decoration-color: #00af00\">30</span>, <span style=\"color: #00af00; text-decoration-color: #00af00\">64</span>)     │             <span style=\"color: #00af00; text-decoration-color: #00af00\">0</span> │\n",
              "├─────────────────────────────────┼────────────────────────┼───────────────┤\n",
              "│ dropout_4 (<span style=\"color: #0087ff; text-decoration-color: #0087ff\">Dropout</span>)             │ (<span style=\"color: #00d7ff; text-decoration-color: #00d7ff\">None</span>, <span style=\"color: #00af00; text-decoration-color: #00af00\">30</span>, <span style=\"color: #00af00; text-decoration-color: #00af00\">30</span>, <span style=\"color: #00af00; text-decoration-color: #00af00\">64</span>)     │             <span style=\"color: #00af00; text-decoration-color: #00af00\">0</span> │\n",
              "├─────────────────────────────────┼────────────────────────┼───────────────┤\n",
              "│ conv2d_5 (<span style=\"color: #0087ff; text-decoration-color: #0087ff\">Conv2D</span>)               │ (<span style=\"color: #00d7ff; text-decoration-color: #00d7ff\">None</span>, <span style=\"color: #00af00; text-decoration-color: #00af00\">28</span>, <span style=\"color: #00af00; text-decoration-color: #00af00\">28</span>, <span style=\"color: #00af00; text-decoration-color: #00af00\">32</span>)     │        <span style=\"color: #00af00; text-decoration-color: #00af00\">18,464</span> │\n",
              "├─────────────────────────────────┼────────────────────────┼───────────────┤\n",
              "│ leaky_re_lu_6 (<span style=\"color: #0087ff; text-decoration-color: #0087ff\">LeakyReLU</span>)       │ (<span style=\"color: #00d7ff; text-decoration-color: #00d7ff\">None</span>, <span style=\"color: #00af00; text-decoration-color: #00af00\">28</span>, <span style=\"color: #00af00; text-decoration-color: #00af00\">28</span>, <span style=\"color: #00af00; text-decoration-color: #00af00\">32</span>)     │             <span style=\"color: #00af00; text-decoration-color: #00af00\">0</span> │\n",
              "├─────────────────────────────────┼────────────────────────┼───────────────┤\n",
              "│ flatten_1 (<span style=\"color: #0087ff; text-decoration-color: #0087ff\">Flatten</span>)             │ (<span style=\"color: #00d7ff; text-decoration-color: #00d7ff\">None</span>, <span style=\"color: #00af00; text-decoration-color: #00af00\">25088</span>)          │             <span style=\"color: #00af00; text-decoration-color: #00af00\">0</span> │\n",
              "├─────────────────────────────────┼────────────────────────┼───────────────┤\n",
              "│ dense_2 (<span style=\"color: #0087ff; text-decoration-color: #0087ff\">Dense</span>)                 │ (<span style=\"color: #00d7ff; text-decoration-color: #00d7ff\">None</span>, <span style=\"color: #00af00; text-decoration-color: #00af00\">128</span>)            │     <span style=\"color: #00af00; text-decoration-color: #00af00\">3,211,392</span> │\n",
              "├─────────────────────────────────┼────────────────────────┼───────────────┤\n",
              "│ leaky_re_lu_7 (<span style=\"color: #0087ff; text-decoration-color: #0087ff\">LeakyReLU</span>)       │ (<span style=\"color: #00d7ff; text-decoration-color: #00d7ff\">None</span>, <span style=\"color: #00af00; text-decoration-color: #00af00\">128</span>)            │             <span style=\"color: #00af00; text-decoration-color: #00af00\">0</span> │\n",
              "├─────────────────────────────────┼────────────────────────┼───────────────┤\n",
              "│ dropout_5 (<span style=\"color: #0087ff; text-decoration-color: #0087ff\">Dropout</span>)             │ (<span style=\"color: #00d7ff; text-decoration-color: #00d7ff\">None</span>, <span style=\"color: #00af00; text-decoration-color: #00af00\">128</span>)            │             <span style=\"color: #00af00; text-decoration-color: #00af00\">0</span> │\n",
              "├─────────────────────────────────┼────────────────────────┼───────────────┤\n",
              "│ dense_3 (<span style=\"color: #0087ff; text-decoration-color: #0087ff\">Dense</span>)                 │ (<span style=\"color: #00d7ff; text-decoration-color: #00d7ff\">None</span>, <span style=\"color: #00af00; text-decoration-color: #00af00\">1</span>)              │           <span style=\"color: #00af00; text-decoration-color: #00af00\">129</span> │\n",
              "└─────────────────────────────────┴────────────────────────┴───────────────┘\n",
              "</pre>\n"
            ]
          },
          "metadata": {}
        },
        {
          "output_type": "display_data",
          "data": {
            "text/plain": [
              "\u001b[1m Total params: \u001b[0m\u001b[38;5;34m3,307,361\u001b[0m (12.62 MB)\n"
            ],
            "text/html": [
              "<pre style=\"white-space:pre;overflow-x:auto;line-height:normal;font-family:Menlo,'DejaVu Sans Mono',consolas,'Courier New',monospace\"><span style=\"font-weight: bold\"> Total params: </span><span style=\"color: #00af00; text-decoration-color: #00af00\">3,307,361</span> (12.62 MB)\n",
              "</pre>\n"
            ]
          },
          "metadata": {}
        },
        {
          "output_type": "display_data",
          "data": {
            "text/plain": [
              "\u001b[1m Trainable params: \u001b[0m\u001b[38;5;34m3,307,361\u001b[0m (12.62 MB)\n"
            ],
            "text/html": [
              "<pre style=\"white-space:pre;overflow-x:auto;line-height:normal;font-family:Menlo,'DejaVu Sans Mono',consolas,'Courier New',monospace\"><span style=\"font-weight: bold\"> Trainable params: </span><span style=\"color: #00af00; text-decoration-color: #00af00\">3,307,361</span> (12.62 MB)\n",
              "</pre>\n"
            ]
          },
          "metadata": {}
        },
        {
          "output_type": "display_data",
          "data": {
            "text/plain": [
              "\u001b[1m Non-trainable params: \u001b[0m\u001b[38;5;34m0\u001b[0m (0.00 B)\n"
            ],
            "text/html": [
              "<pre style=\"white-space:pre;overflow-x:auto;line-height:normal;font-family:Menlo,'DejaVu Sans Mono',consolas,'Courier New',monospace\"><span style=\"font-weight: bold\"> Non-trainable params: </span><span style=\"color: #00af00; text-decoration-color: #00af00\">0</span> (0.00 B)\n",
              "</pre>\n"
            ]
          },
          "metadata": {}
        }
      ]
    },
    {
      "cell_type": "code",
      "source": [
        "# Getting optimizer\n",
        "optimize = get_optimizer(cfg[\"optimize\"])\n",
        "\n",
        "# Compiling model\n",
        "model.compile(\n",
        "    optimizer=optimizer,\n",
        "    loss=loss,\n",
        "    metrics=metrics\n",
        ")\n",
        "\n",
        "# temporary fix for train/val split\n",
        "from sklearn.model_selection import train_test_split # Import train_test_split function\n",
        "x_train, x_val, y_train, y_val = train_test_split(x_train, y_train, test_size=0.2, random_state=1)  # 80% training and 20% val (workaround)\n",
        "\n",
        "# Fitting and recording training history (need to fix this; validation cannot be the test set)\n",
        "history = model.fit(x_train, y_train,\n",
        "      batch_size=batch_size,\n",
        "      epochs=epochs,\n",
        "      verbose=2,\n",
        "      validation_data=(x_val, y_val),\n",
        "      validation_split=validation_split,\n",
        "      callbacks=[keras_callbacks,lr_callback],\n",
        "      shuffle=True)"
      ],
      "metadata": {
        "colab": {
          "base_uri": "https://localhost:8080/"
        },
        "id": "RNaMRMraxC7w",
        "outputId": "ba7a0031-0eea-42b2-971b-95341e4e942c"
      },
      "execution_count": 42,
      "outputs": [
        {
          "output_type": "stream",
          "name": "stdout",
          "text": [
            "Epoch 1/150\n",
            "33/33 - 14s - 423ms/step - accuracy: 0.5742 - loss: 1.7991 - val_accuracy: 0.6545 - val_loss: 1.4768 - learning_rate: 1.0000e-03\n",
            "Epoch 2/150\n",
            "33/33 - 18s - 554ms/step - accuracy: 0.6373 - loss: 1.3250 - val_accuracy: 0.6910 - val_loss: 1.1858 - learning_rate: 1.0000e-03\n",
            "Epoch 3/150\n",
            "33/33 - 10s - 288ms/step - accuracy: 0.6635 - loss: 1.1189 - val_accuracy: 0.6987 - val_loss: 1.0147 - learning_rate: 1.0000e-03\n",
            "Epoch 4/150\n",
            "33/33 - 10s - 288ms/step - accuracy: 0.6867 - loss: 0.9734 - val_accuracy: 0.6612 - val_loss: 0.9388 - learning_rate: 1.0000e-03\n",
            "Epoch 5/150\n",
            "33/33 - 9s - 287ms/step - accuracy: 0.6823 - loss: 0.8931 - val_accuracy: 0.6824 - val_loss: 0.8741 - learning_rate: 1.0000e-03\n",
            "Epoch 6/150\n",
            "33/33 - 10s - 288ms/step - accuracy: 0.6956 - loss: 0.8207 - val_accuracy: 0.6978 - val_loss: 0.8054 - learning_rate: 1.0000e-03\n",
            "Epoch 7/150\n",
            "33/33 - 9s - 287ms/step - accuracy: 0.7038 - loss: 0.7614 - val_accuracy: 0.6949 - val_loss: 0.7621 - learning_rate: 1.0000e-03\n",
            "Epoch 8/150\n",
            "33/33 - 9s - 287ms/step - accuracy: 0.7211 - loss: 0.7177 - val_accuracy: 0.6882 - val_loss: 0.7441 - learning_rate: 1.0000e-03\n",
            "Epoch 9/150\n",
            "33/33 - 9s - 285ms/step - accuracy: 0.7250 - loss: 0.6871 - val_accuracy: 0.7238 - val_loss: 0.7082 - learning_rate: 1.0000e-03\n",
            "Epoch 10/150\n",
            "33/33 - 9s - 286ms/step - accuracy: 0.7286 - loss: 0.6587 - val_accuracy: 0.7161 - val_loss: 0.6665 - learning_rate: 1.0000e-03\n",
            "Epoch 11/150\n",
            "33/33 - 9s - 286ms/step - accuracy: 0.7310 - loss: 0.6462 - val_accuracy: 0.7209 - val_loss: 0.6894 - learning_rate: 1.0000e-03\n",
            "Epoch 12/150\n",
            "33/33 - 9s - 287ms/step - accuracy: 0.7327 - loss: 0.6307 - val_accuracy: 0.7276 - val_loss: 0.6224 - learning_rate: 1.0000e-03\n",
            "Epoch 13/150\n",
            "33/33 - 9s - 287ms/step - accuracy: 0.7408 - loss: 0.6092 - val_accuracy: 0.7315 - val_loss: 0.6187 - learning_rate: 1.0000e-03\n",
            "Epoch 14/150\n",
            "33/33 - 9s - 287ms/step - accuracy: 0.7365 - loss: 0.5982 - val_accuracy: 0.7411 - val_loss: 0.6085 - learning_rate: 1.0000e-03\n",
            "Epoch 15/150\n",
            "33/33 - 9s - 287ms/step - accuracy: 0.7259 - loss: 0.6090 - val_accuracy: 0.7238 - val_loss: 0.6114 - learning_rate: 1.0000e-03\n",
            "Epoch 16/150\n",
            "33/33 - 9s - 285ms/step - accuracy: 0.7372 - loss: 0.5935 - val_accuracy: 0.7430 - val_loss: 0.5911 - learning_rate: 1.0000e-03\n",
            "Epoch 17/150\n",
            "33/33 - 9s - 286ms/step - accuracy: 0.7370 - loss: 0.5817 - val_accuracy: 0.7440 - val_loss: 0.5992 - learning_rate: 1.0000e-03\n",
            "Epoch 18/150\n",
            "33/33 - 9s - 286ms/step - accuracy: 0.7421 - loss: 0.5734 - val_accuracy: 0.7459 - val_loss: 0.5601 - learning_rate: 1.0000e-03\n",
            "Epoch 19/150\n",
            "33/33 - 9s - 288ms/step - accuracy: 0.7534 - loss: 0.5617 - val_accuracy: 0.7411 - val_loss: 0.5684 - learning_rate: 1.0000e-03\n",
            "Epoch 20/150\n",
            "33/33 - 9s - 285ms/step - accuracy: 0.7351 - loss: 0.5692 - val_accuracy: 0.7469 - val_loss: 0.5490 - learning_rate: 1.0000e-03\n",
            "Epoch 21/150\n",
            "33/33 - 9s - 287ms/step - accuracy: 0.7519 - loss: 0.5450 - val_accuracy: 0.7517 - val_loss: 0.5354 - learning_rate: 1.0000e-03\n",
            "Epoch 22/150\n",
            "33/33 - 9s - 286ms/step - accuracy: 0.7505 - loss: 0.5450 - val_accuracy: 0.7478 - val_loss: 0.5377 - learning_rate: 1.0000e-03\n",
            "Epoch 23/150\n",
            "33/33 - 10s - 289ms/step - accuracy: 0.7442 - loss: 0.5466 - val_accuracy: 0.7507 - val_loss: 0.5388 - learning_rate: 1.0000e-03\n",
            "Epoch 24/150\n",
            "33/33 - 9s - 286ms/step - accuracy: 0.7466 - loss: 0.5410 - val_accuracy: 0.7661 - val_loss: 0.5314 - learning_rate: 1.0000e-03\n",
            "Epoch 25/150\n",
            "33/33 - 9s - 287ms/step - accuracy: 0.7476 - loss: 0.5345 - val_accuracy: 0.7488 - val_loss: 0.5394 - learning_rate: 1.0000e-03\n",
            "Epoch 26/150\n",
            "33/33 - 9s - 287ms/step - accuracy: 0.7584 - loss: 0.5305 - val_accuracy: 0.7517 - val_loss: 0.5225 - learning_rate: 1.0000e-03\n",
            "Epoch 27/150\n",
            "33/33 - 9s - 287ms/step - accuracy: 0.7577 - loss: 0.5226 - val_accuracy: 0.7488 - val_loss: 0.5312 - learning_rate: 1.0000e-03\n",
            "Epoch 28/150\n",
            "33/33 - 9s - 288ms/step - accuracy: 0.7599 - loss: 0.5239 - val_accuracy: 0.7488 - val_loss: 0.5341 - learning_rate: 1.0000e-03\n",
            "Epoch 29/150\n",
            "33/33 - 9s - 287ms/step - accuracy: 0.7531 - loss: 0.5292 - val_accuracy: 0.7565 - val_loss: 0.5261 - learning_rate: 1.0000e-03\n",
            "Epoch 30/150\n",
            "33/33 - 9s - 287ms/step - accuracy: 0.7582 - loss: 0.5235 - val_accuracy: 0.7680 - val_loss: 0.5061 - learning_rate: 1.0000e-03\n",
            "Epoch 31/150\n",
            "33/33 - 9s - 285ms/step - accuracy: 0.7707 - loss: 0.5155 - val_accuracy: 0.7632 - val_loss: 0.5097 - learning_rate: 1.0000e-03\n",
            "Epoch 32/150\n",
            "33/33 - 9s - 287ms/step - accuracy: 0.7714 - loss: 0.5037 - val_accuracy: 0.7700 - val_loss: 0.5117 - learning_rate: 1.0000e-03\n",
            "Epoch 33/150\n",
            "33/33 - 9s - 287ms/step - accuracy: 0.7575 - loss: 0.5281 - val_accuracy: 0.7478 - val_loss: 0.5313 - learning_rate: 1.0000e-03\n",
            "Epoch 34/150\n",
            "33/33 - 9s - 287ms/step - accuracy: 0.7659 - loss: 0.5178 - val_accuracy: 0.7738 - val_loss: 0.4956 - learning_rate: 1.0000e-03\n",
            "Epoch 35/150\n",
            "33/33 - 9s - 287ms/step - accuracy: 0.7710 - loss: 0.5089 - val_accuracy: 0.7680 - val_loss: 0.5145 - learning_rate: 1.0000e-03\n",
            "Epoch 36/150\n",
            "33/33 - 9s - 287ms/step - accuracy: 0.7618 - loss: 0.5198 - val_accuracy: 0.7738 - val_loss: 0.4951 - learning_rate: 1.0000e-03\n",
            "Epoch 37/150\n",
            "33/33 - 9s - 287ms/step - accuracy: 0.7688 - loss: 0.5143 - val_accuracy: 0.7796 - val_loss: 0.4986 - learning_rate: 1.0000e-03\n",
            "Epoch 38/150\n",
            "33/33 - 9s - 287ms/step - accuracy: 0.7616 - loss: 0.5112 - val_accuracy: 0.7777 - val_loss: 0.4993 - learning_rate: 1.0000e-03\n",
            "Epoch 39/150\n",
            "33/33 - 9s - 286ms/step - accuracy: 0.7770 - loss: 0.4976 - val_accuracy: 0.7767 - val_loss: 0.4999 - learning_rate: 1.0000e-03\n",
            "Epoch 40/150\n",
            "33/33 - 10s - 288ms/step - accuracy: 0.7811 - loss: 0.4864 - val_accuracy: 0.7825 - val_loss: 0.4880 - learning_rate: 1.0000e-03\n",
            "Epoch 41/150\n",
            "33/33 - 9s - 287ms/step - accuracy: 0.7688 - loss: 0.5115 - val_accuracy: 0.7738 - val_loss: 0.4967 - learning_rate: 1.0000e-03\n",
            "Epoch 42/150\n",
            "33/33 - 9s - 285ms/step - accuracy: 0.7690 - loss: 0.4942 - val_accuracy: 0.7757 - val_loss: 0.4973 - learning_rate: 1.0000e-03\n",
            "Epoch 43/150\n",
            "33/33 - 9s - 287ms/step - accuracy: 0.7710 - loss: 0.5004 - val_accuracy: 0.7796 - val_loss: 0.4907 - learning_rate: 1.0000e-03\n",
            "Epoch 44/150\n",
            "33/33 - 9s - 286ms/step - accuracy: 0.7818 - loss: 0.4931 - val_accuracy: 0.7883 - val_loss: 0.4999 - learning_rate: 1.0000e-03\n",
            "Epoch 45/150\n",
            "33/33 - 10s - 288ms/step - accuracy: 0.7816 - loss: 0.4893 - val_accuracy: 0.7738 - val_loss: 0.4912 - learning_rate: 1.0000e-03\n",
            "Epoch 46/150\n",
            "33/33 - 9s - 286ms/step - accuracy: 0.7881 - loss: 0.4726 - val_accuracy: 0.7700 - val_loss: 0.5091 - learning_rate: 5.0000e-04\n",
            "Epoch 47/150\n",
            "33/33 - 9s - 288ms/step - accuracy: 0.7866 - loss: 0.4704 - val_accuracy: 0.7806 - val_loss: 0.4933 - learning_rate: 5.0000e-04\n",
            "Epoch 48/150\n",
            "33/33 - 9s - 287ms/step - accuracy: 0.7890 - loss: 0.4696 - val_accuracy: 0.7796 - val_loss: 0.4939 - learning_rate: 5.0000e-04\n",
            "Epoch 49/150\n",
            "33/33 - 10s - 289ms/step - accuracy: 0.7955 - loss: 0.4604 - val_accuracy: 0.7854 - val_loss: 0.4813 - learning_rate: 5.0000e-04\n",
            "Epoch 50/150\n",
            "33/33 - 9s - 287ms/step - accuracy: 0.7905 - loss: 0.4591 - val_accuracy: 0.7911 - val_loss: 0.4817 - learning_rate: 5.0000e-04\n",
            "Epoch 51/150\n",
            "33/33 - 9s - 287ms/step - accuracy: 0.7994 - loss: 0.4584 - val_accuracy: 0.7902 - val_loss: 0.4717 - learning_rate: 5.0000e-04\n",
            "Epoch 52/150\n",
            "33/33 - 9s - 287ms/step - accuracy: 0.7974 - loss: 0.4547 - val_accuracy: 0.7911 - val_loss: 0.4770 - learning_rate: 5.0000e-04\n",
            "Epoch 53/150\n",
            "33/33 - 9s - 288ms/step - accuracy: 0.7991 - loss: 0.4562 - val_accuracy: 0.7950 - val_loss: 0.4670 - learning_rate: 5.0000e-04\n",
            "Epoch 54/150\n",
            "33/33 - 9s - 288ms/step - accuracy: 0.8047 - loss: 0.4478 - val_accuracy: 0.7911 - val_loss: 0.4825 - learning_rate: 5.0000e-04\n",
            "Epoch 55/150\n",
            "33/33 - 9s - 287ms/step - accuracy: 0.7958 - loss: 0.4525 - val_accuracy: 0.7757 - val_loss: 0.5123 - learning_rate: 5.0000e-04\n",
            "Epoch 56/150\n",
            "33/33 - 10s - 288ms/step - accuracy: 0.7917 - loss: 0.4588 - val_accuracy: 0.7815 - val_loss: 0.4963 - learning_rate: 5.0000e-04\n",
            "Epoch 57/150\n",
            "33/33 - 9s - 286ms/step - accuracy: 0.7907 - loss: 0.4591 - val_accuracy: 0.7863 - val_loss: 0.4917 - learning_rate: 5.0000e-04\n",
            "Epoch 58/150\n",
            "33/33 - 9s - 287ms/step - accuracy: 0.8056 - loss: 0.4467 - val_accuracy: 0.7777 - val_loss: 0.5012 - learning_rate: 5.0000e-04\n",
            "Epoch 59/150\n",
            "33/33 - 9s - 287ms/step - accuracy: 0.8080 - loss: 0.4368 - val_accuracy: 0.7979 - val_loss: 0.4734 - learning_rate: 2.5000e-04\n",
            "Epoch 60/150\n",
            "33/33 - 9s - 288ms/step - accuracy: 0.8044 - loss: 0.4381 - val_accuracy: 0.7911 - val_loss: 0.4804 - learning_rate: 2.5000e-04\n",
            "Epoch 61/150\n",
            "33/33 - 9s - 287ms/step - accuracy: 0.8138 - loss: 0.4364 - val_accuracy: 0.7806 - val_loss: 0.5119 - learning_rate: 2.5000e-04\n",
            "Epoch 62/150\n",
            "33/33 - 9s - 287ms/step - accuracy: 0.8121 - loss: 0.4369 - val_accuracy: 0.7911 - val_loss: 0.4829 - learning_rate: 2.5000e-04\n",
            "Epoch 63/150\n",
            "33/33 - 9s - 288ms/step - accuracy: 0.8112 - loss: 0.4339 - val_accuracy: 0.7806 - val_loss: 0.5047 - learning_rate: 2.5000e-04\n",
            "Epoch 64/150\n",
            "33/33 - 9s - 288ms/step - accuracy: 0.8148 - loss: 0.4255 - val_accuracy: 0.7902 - val_loss: 0.4905 - learning_rate: 1.2500e-04\n",
            "Epoch 65/150\n",
            "33/33 - 9s - 288ms/step - accuracy: 0.8133 - loss: 0.4152 - val_accuracy: 0.7950 - val_loss: 0.4830 - learning_rate: 1.2500e-04\n",
            "Epoch 66/150\n",
            "33/33 - 9s - 287ms/step - accuracy: 0.8162 - loss: 0.4161 - val_accuracy: 0.7950 - val_loss: 0.4831 - learning_rate: 1.2500e-04\n",
            "Epoch 67/150\n",
            "33/33 - 9s - 287ms/step - accuracy: 0.8206 - loss: 0.4178 - val_accuracy: 0.7979 - val_loss: 0.4704 - learning_rate: 1.2500e-04\n",
            "Epoch 68/150\n",
            "33/33 - 10s - 289ms/step - accuracy: 0.8177 - loss: 0.4138 - val_accuracy: 0.7969 - val_loss: 0.4799 - learning_rate: 1.2500e-04\n",
            "Epoch 69/150\n",
            "33/33 - 9s - 288ms/step - accuracy: 0.8227 - loss: 0.4129 - val_accuracy: 0.7998 - val_loss: 0.4825 - learning_rate: 6.2500e-05\n",
            "Epoch 70/150\n",
            "33/33 - 9s - 288ms/step - accuracy: 0.8239 - loss: 0.4070 - val_accuracy: 0.8008 - val_loss: 0.4778 - learning_rate: 6.2500e-05\n",
            "Epoch 71/150\n",
            "33/33 - 10s - 288ms/step - accuracy: 0.8261 - loss: 0.4046 - val_accuracy: 0.7921 - val_loss: 0.4965 - learning_rate: 6.2500e-05\n",
            "Epoch 72/150\n",
            "33/33 - 9s - 287ms/step - accuracy: 0.8259 - loss: 0.4060 - val_accuracy: 0.8008 - val_loss: 0.4824 - learning_rate: 6.2500e-05\n",
            "Epoch 73/150\n",
            "33/33 - 9s - 287ms/step - accuracy: 0.8186 - loss: 0.4128 - val_accuracy: 0.7979 - val_loss: 0.4810 - learning_rate: 6.2500e-05\n"
          ]
        }
      ]
    },
    {
      "cell_type": "code",
      "source": [
        "# Preliminary evaluation on training data\n",
        "train_score = model.evaluate(x_train, y_train, verbose=0)\n",
        "print('Train loss:', round(train_score[0], 4))\n",
        "print('Train accuracy:', round(train_score[1], 4), '\\n')\n",
        "\n",
        "# Preliminary evaluation on test data\n",
        "test_score = model.evaluate(x_test, y_test, verbose=0)\n",
        "print('Test loss:', round(test_score[0], 4))\n",
        "print('Test accuracy:', round(test_score[1], 4))"
      ],
      "metadata": {
        "id": "IGOY0sP0arBi",
        "colab": {
          "base_uri": "https://localhost:8080/"
        },
        "outputId": "650f57c5-9009-47b7-9eb5-0785e23ef592"
      },
      "execution_count": 43,
      "outputs": [
        {
          "output_type": "stream",
          "name": "stdout",
          "text": [
            "Train loss: 0.4029\n",
            "Train accuracy: 0.8283 \n",
            "\n",
            "Test loss: 0.6581\n",
            "Test accuracy: 0.7021\n"
          ]
        }
      ]
    },
    {
      "cell_type": "markdown",
      "source": [
        "# Evaluate performance"
      ],
      "metadata": {
        "id": "_XRoPTyd_HSB"
      }
    },
    {
      "cell_type": "code",
      "source": [
        "## Evaluation\n",
        "from sklearn.metrics import classification_report\n",
        "from sklearn.metrics import cohen_kappa_score\n",
        "from sklearn.metrics import confusion_matrix\n",
        "from sklearn.metrics import ConfusionMatrixDisplay"
      ],
      "metadata": {
        "id": "i4c6ioinDPEy"
      },
      "execution_count": 44,
      "outputs": []
    },
    {
      "cell_type": "code",
      "source": [
        "# Make predictions on the test set\n",
        "y_pred = model.predict(x_test)\n",
        "\n",
        "# Convert the predicted labels to continuous-multioutput format\n",
        "y_pred = np.round(y_pred)\n",
        "\n",
        "# Calculate the kappa score\n",
        "kappa = cohen_kappa_score(y_test, y_pred)\n",
        "print(\"The result of Kappa is :\", round(kappa, 3))\n",
        "\n",
        "# Generate the classification report\n",
        "report = classification_report(y_test, y_pred, target_names = class_names)\n",
        "\n",
        "# Print the report\n",
        "print(\"The result of the classification report is: \\n \",report)"
      ],
      "metadata": {
        "id": "Jikckz_2-7EL",
        "colab": {
          "base_uri": "https://localhost:8080/"
        },
        "outputId": "ebd2ed64-0ae7-4d23-d7cf-6cda1a88a3aa"
      },
      "execution_count": 45,
      "outputs": [
        {
          "output_type": "stream",
          "name": "stdout",
          "text": [
            "\u001b[1m12/12\u001b[0m \u001b[32m━━━━━━━━━━━━━━━━━━━━\u001b[0m\u001b[37m\u001b[0m \u001b[1m0s\u001b[0m 25ms/step\n",
            "The result of Kappa is : 0.407\n",
            "The result of the classification report is: \n",
            "                precision    recall  f1-score   support\n",
            "\n",
            "     hot_dog       0.76      0.65      0.70       200\n",
            " not_hot_dog       0.66      0.76      0.71       176\n",
            "\n",
            "    accuracy                           0.70       376\n",
            "   macro avg       0.71      0.71      0.70       376\n",
            "weighted avg       0.71      0.70      0.70       376\n",
            "\n"
          ]
        }
      ]
    },
    {
      "cell_type": "code",
      "source": [
        "#Generating confusion matrix\n",
        "cm = confusion_matrix(\n",
        "    y_test,\n",
        "    y_pred)\n",
        "\n",
        "# Create a ConfusionMatrixDisplay object\n",
        "display = ConfusionMatrixDisplay(\n",
        "    confusion_matrix=cm,\n",
        "    display_labels=class_names)\n",
        "\n",
        "# Create a figure with a larger size\n",
        "fig = plt.figure(figsize=(5, 5))\n",
        "\n",
        "# Create a subplot within the figure\n",
        "ax = fig.subplots()\n",
        "\n",
        "# Plot the confusion matrix as a heatmap\n",
        "display.plot(ax=ax)\n",
        "\n",
        "# Show the plot\n",
        "plt.show()"
      ],
      "metadata": {
        "id": "hXFvmE0wTJEK",
        "colab": {
          "base_uri": "https://localhost:8080/",
          "height": 427
        },
        "outputId": "6a09b641-477d-4853-cc97-5230955cc7a4"
      },
      "execution_count": 46,
      "outputs": [
        {
          "output_type": "display_data",
          "data": {
            "text/plain": [
              "<Figure size 500x500 with 2 Axes>"
            ],
            "image/png": "[encoded data removed]"
          },
          "metadata": {}
        }
      ]
    },
    {
      "cell_type": "code",
      "source": [
        "#Plotting learning history\n",
        "#Platform prepping\n",
        "def plot_hist(h, xsize=6, ysize=5):\n",
        "    # Prepare plotting\n",
        "    fig_size = plt.rcParams[\"figure.figsize\"]\n",
        "    plt.rcParams[\"figure.figsize\"] = [xsize, ysize]\n",
        "\n",
        "    # Get training and validation keys\n",
        "    ks = list(h.keys())\n",
        "    n2 = math.floor(len(ks)/2)\n",
        "    train_keys = ks[0:n2]\n",
        "    valid_keys = ks[n2:2*n2]\n",
        "\n",
        "    # summarize history for different metrics\n",
        "    for i in range(n2):\n",
        "        plt.plot(h[train_keys[i]])\n",
        "        plt.plot(h[valid_keys[i]])\n",
        "        plt.title('Training vs Validation '+train_keys[i])\n",
        "        plt.ylabel(train_keys[i])\n",
        "        plt.xlabel('Epoch')\n",
        "        plt.legend(['Train', 'Validation'], loc='upper left')\n",
        "        plt.draw()\n",
        "        plt.show()\n",
        "\n",
        "    return\n",
        "\n",
        "#Execute\n",
        "plot_hist(pd.DataFrame(history.history))"
      ],
      "metadata": {
        "id": "hW0Jw5emX7zg",
        "colab": {
          "base_uri": "https://localhost:8080/",
          "height": 957
        },
        "outputId": "ad4ae042-e82b-4ad4-c6a2-d613037f084a"
      },
      "execution_count": 47,
      "outputs": [
        {
          "output_type": "display_data",
          "data": {
            "text/plain": [
              "<Figure size 600x500 with 1 Axes>"
            ],
            "image/png": "[encoded data removed]"
          },
          "metadata": {}
        },
        {
          "output_type": "display_data",
          "data": {
            "text/plain": [
              "<Figure size 600x500 with 1 Axes>"
            ],
            "image/png": "[encoded data removed]"
          },
          "metadata": {}
        }
      ]
    },
    {
      "cell_type": "markdown",
      "source": [
        "# Inspect results"
      ],
      "metadata": {
        "id": "7Z53kXXhjazX"
      }
    },
    {
      "cell_type": "markdown",
      "source": [
        "# Export model and result"
      ],
      "metadata": {
        "id": "Ec3Skmj4Prj_"
      }
    },
    {
      "cell_type": "code",
      "source": [
        "# Some final note about this version of the model before exporting. will also be exported into a note.txt file\n",
        "note = \"since accuracy doesn't change that much, let's go back to Adam optimizer but with bigger batch size and stronger learning rate; last time we tried adam, those were too small and the model was not allow to be bolder.\""
      ],
      "metadata": {
        "id": "5BhYlNjPmU8K"
      },
      "execution_count": 48,
      "outputs": []
    },
    {
      "cell_type": "code",
      "source": [
        "# only save model trained on full train set (some test runs are done on \"small\" dataset to check scripts)\n",
        "export.save_model_and_metrics(model=model,\n",
        "                              history=history,\n",
        "                              x_test=x_test,\n",
        "                              y_test=y_test,\n",
        "                              export_dir=export_dir,\n",
        "                              model_name=model_name,\n",
        "                              config=cfg,\n",
        "                              note=note)"
      ],
      "metadata": {
        "id": "r6U20PWAPto2",
        "colab": {
          "base_uri": "https://localhost:8080/"
        },
        "outputId": "2c5aab1e-4197-43a1-ffc9-5018ed2bcb30"
      },
      "execution_count": 49,
      "outputs": [
        {
          "output_type": "stream",
          "name": "stdout",
          "text": [
            "\u001b[1m12/12\u001b[0m \u001b[32m━━━━━━━━━━━━━━━━━━━━\u001b[0m\u001b[37m\u001b[0m \u001b[1m0s\u001b[0m 18ms/step\n",
            "Saved model, metrics and config to /content/drive/MyDrive/Github/Medium/1A - Hot dog or not hot dog/runs/hot_dog_or_not_hot_dog_v001_2025-09-23_14-45\n"
          ]
        }
      ]
    }
  ],
  "metadata": {
    "colab": {
      "provenance": [],
      "gpuType": "T4"
    },
    "kernelspec": {
      "display_name": "Python 3",
      "name": "python3"
    },
    "language_info": {
      "codemirror_mode": {
        "name": "ipython",
        "version": 3
      },
      "file_extension": ".py",
      "mimetype": "text/x-python",
      "name": "python",
      "nbconvert_exporter": "python",
      "pygments_lexer": "ipython3",
      "version": "3.7.1"
    },
    "accelerator": "GPU"
  },
  "nbformat": 4,
  "nbformat_minor": 0
}